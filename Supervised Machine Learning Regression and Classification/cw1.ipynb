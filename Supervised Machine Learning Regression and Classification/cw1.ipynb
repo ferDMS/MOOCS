{
 "cells": [
  {
   "cell_type": "markdown",
   "metadata": {},
   "source": [
    "# How likely are similarly ranked tennis players to win?\n",
    "\n",
    "_Practice linear regression model to deepen knowledge on the topics by using a random dataset from a familiar topic_\n"
   ]
  },
  {
   "cell_type": "markdown",
   "metadata": {},
   "source": [
    "## Importing Data\n",
    "\n",
    "First, lets grab a sample dataset from Kaggle. Ok I found a dataset on tennis matches from 2000 to January 2024.\n",
    "\n",
    "We can import a csv file into a dataframe from the Pandas library.\n",
    "\n",
    "We must have our current working directory set to the same directory in which the python file and csv file are located.\n",
    "\n",
    "In order to have no problem with the csv, we can specify whether it has headers or not. Since our does, we do not explicitly indicate as so.\n"
   ]
  },
  {
   "cell_type": "code",
   "execution_count": 1,
   "metadata": {},
   "outputs": [
    {
     "data": {
      "text/html": [
       "<div>\n",
       "<style scoped>\n",
       "    .dataframe tbody tr th:only-of-type {\n",
       "        vertical-align: middle;\n",
       "    }\n",
       "\n",
       "    .dataframe tbody tr th {\n",
       "        vertical-align: top;\n",
       "    }\n",
       "\n",
       "    .dataframe thead th {\n",
       "        text-align: right;\n",
       "    }\n",
       "</style>\n",
       "<table border=\"1\" class=\"dataframe\">\n",
       "  <thead>\n",
       "    <tr style=\"text-align: right;\">\n",
       "      <th></th>\n",
       "      <th>Tournament</th>\n",
       "      <th>Date</th>\n",
       "      <th>Series</th>\n",
       "      <th>Court</th>\n",
       "      <th>Surface</th>\n",
       "      <th>Round</th>\n",
       "      <th>Best of</th>\n",
       "      <th>Player_1</th>\n",
       "      <th>Player_2</th>\n",
       "      <th>Winner</th>\n",
       "      <th>Rank_1</th>\n",
       "      <th>Rank_2</th>\n",
       "      <th>Pts_1</th>\n",
       "      <th>Pts_2</th>\n",
       "      <th>Odd_1</th>\n",
       "      <th>Odd_2</th>\n",
       "      <th>Score</th>\n",
       "    </tr>\n",
       "  </thead>\n",
       "  <tbody>\n",
       "    <tr>\n",
       "      <th>0</th>\n",
       "      <td>Australian Hardcourt Championships</td>\n",
       "      <td>2000-01-03</td>\n",
       "      <td>International</td>\n",
       "      <td>Outdoor</td>\n",
       "      <td>Hard</td>\n",
       "      <td>1st Round</td>\n",
       "      <td>3</td>\n",
       "      <td>Dosedel S.</td>\n",
       "      <td>Ljubicic I.</td>\n",
       "      <td>Dosedel S.</td>\n",
       "      <td>63</td>\n",
       "      <td>77</td>\n",
       "      <td>-1</td>\n",
       "      <td>-1</td>\n",
       "      <td>-1.00</td>\n",
       "      <td>-1.00</td>\n",
       "      <td>6-4 6-2</td>\n",
       "    </tr>\n",
       "    <tr>\n",
       "      <th>1</th>\n",
       "      <td>Australian Hardcourt Championships</td>\n",
       "      <td>2000-01-03</td>\n",
       "      <td>International</td>\n",
       "      <td>Outdoor</td>\n",
       "      <td>Hard</td>\n",
       "      <td>1st Round</td>\n",
       "      <td>3</td>\n",
       "      <td>Clement A.</td>\n",
       "      <td>Enqvist T.</td>\n",
       "      <td>Enqvist T.</td>\n",
       "      <td>56</td>\n",
       "      <td>5</td>\n",
       "      <td>-1</td>\n",
       "      <td>-1</td>\n",
       "      <td>-1.00</td>\n",
       "      <td>-1.00</td>\n",
       "      <td>3-6 3-6</td>\n",
       "    </tr>\n",
       "    <tr>\n",
       "      <th>2</th>\n",
       "      <td>Australian Hardcourt Championships</td>\n",
       "      <td>2000-01-03</td>\n",
       "      <td>International</td>\n",
       "      <td>Outdoor</td>\n",
       "      <td>Hard</td>\n",
       "      <td>1st Round</td>\n",
       "      <td>3</td>\n",
       "      <td>Escude N.</td>\n",
       "      <td>Baccanello P.</td>\n",
       "      <td>Escude N.</td>\n",
       "      <td>40</td>\n",
       "      <td>655</td>\n",
       "      <td>-1</td>\n",
       "      <td>-1</td>\n",
       "      <td>-1.00</td>\n",
       "      <td>-1.00</td>\n",
       "      <td>6-7 7-5 6-3</td>\n",
       "    </tr>\n",
       "    <tr>\n",
       "      <th>3</th>\n",
       "      <td>Australian Hardcourt Championships</td>\n",
       "      <td>2000-01-03</td>\n",
       "      <td>International</td>\n",
       "      <td>Outdoor</td>\n",
       "      <td>Hard</td>\n",
       "      <td>1st Round</td>\n",
       "      <td>3</td>\n",
       "      <td>Knippschild J.</td>\n",
       "      <td>Federer R.</td>\n",
       "      <td>Federer R.</td>\n",
       "      <td>87</td>\n",
       "      <td>65</td>\n",
       "      <td>-1</td>\n",
       "      <td>-1</td>\n",
       "      <td>-1.00</td>\n",
       "      <td>-1.00</td>\n",
       "      <td>1-6 4-6</td>\n",
       "    </tr>\n",
       "    <tr>\n",
       "      <th>4</th>\n",
       "      <td>Australian Hardcourt Championships</td>\n",
       "      <td>2000-01-03</td>\n",
       "      <td>International</td>\n",
       "      <td>Outdoor</td>\n",
       "      <td>Hard</td>\n",
       "      <td>1st Round</td>\n",
       "      <td>3</td>\n",
       "      <td>Fromberg R.</td>\n",
       "      <td>Woodbridge T.</td>\n",
       "      <td>Fromberg R.</td>\n",
       "      <td>81</td>\n",
       "      <td>198</td>\n",
       "      <td>-1</td>\n",
       "      <td>-1</td>\n",
       "      <td>-1.00</td>\n",
       "      <td>-1.00</td>\n",
       "      <td>7-6 5-7 6-4</td>\n",
       "    </tr>\n",
       "    <tr>\n",
       "      <th>...</th>\n",
       "      <td>...</td>\n",
       "      <td>...</td>\n",
       "      <td>...</td>\n",
       "      <td>...</td>\n",
       "      <td>...</td>\n",
       "      <td>...</td>\n",
       "      <td>...</td>\n",
       "      <td>...</td>\n",
       "      <td>...</td>\n",
       "      <td>...</td>\n",
       "      <td>...</td>\n",
       "      <td>...</td>\n",
       "      <td>...</td>\n",
       "      <td>...</td>\n",
       "      <td>...</td>\n",
       "      <td>...</td>\n",
       "      <td>...</td>\n",
       "    </tr>\n",
       "    <tr>\n",
       "      <th>61663</th>\n",
       "      <td>ASB Classic</td>\n",
       "      <td>2024-01-10</td>\n",
       "      <td>ATP250</td>\n",
       "      <td>Outdoor</td>\n",
       "      <td>Hard</td>\n",
       "      <td>Quarterfinals</td>\n",
       "      <td>3</td>\n",
       "      <td>Muller A.</td>\n",
       "      <td>Daniel T.</td>\n",
       "      <td>Daniel T.</td>\n",
       "      <td>79</td>\n",
       "      <td>74</td>\n",
       "      <td>711</td>\n",
       "      <td>739</td>\n",
       "      <td>1.91</td>\n",
       "      <td>1.91</td>\n",
       "      <td>4-6 7-6 3-6</td>\n",
       "    </tr>\n",
       "    <tr>\n",
       "      <th>61664</th>\n",
       "      <td>ASB Classic</td>\n",
       "      <td>2024-01-11</td>\n",
       "      <td>ATP250</td>\n",
       "      <td>Outdoor</td>\n",
       "      <td>Hard</td>\n",
       "      <td>Quarterfinals</td>\n",
       "      <td>3</td>\n",
       "      <td>Shelton B.</td>\n",
       "      <td>Carballes Baena R.</td>\n",
       "      <td>Shelton B.</td>\n",
       "      <td>16</td>\n",
       "      <td>67</td>\n",
       "      <td>2145</td>\n",
       "      <td>796</td>\n",
       "      <td>1.17</td>\n",
       "      <td>5.00</td>\n",
       "      <td>6-4 6-3</td>\n",
       "    </tr>\n",
       "    <tr>\n",
       "      <th>61665</th>\n",
       "      <td>ASB Classic</td>\n",
       "      <td>2024-01-12</td>\n",
       "      <td>ATP250</td>\n",
       "      <td>Outdoor</td>\n",
       "      <td>Hard</td>\n",
       "      <td>Semifinals</td>\n",
       "      <td>3</td>\n",
       "      <td>Shelton B.</td>\n",
       "      <td>Daniel T.</td>\n",
       "      <td>Daniel T.</td>\n",
       "      <td>16</td>\n",
       "      <td>74</td>\n",
       "      <td>2145</td>\n",
       "      <td>739</td>\n",
       "      <td>1.22</td>\n",
       "      <td>4.33</td>\n",
       "      <td>5-7 6-7</td>\n",
       "    </tr>\n",
       "    <tr>\n",
       "      <th>61666</th>\n",
       "      <td>ASB Classic</td>\n",
       "      <td>2024-01-12</td>\n",
       "      <td>ATP250</td>\n",
       "      <td>Outdoor</td>\n",
       "      <td>Hard</td>\n",
       "      <td>Semifinals</td>\n",
       "      <td>3</td>\n",
       "      <td>Tabilo A.</td>\n",
       "      <td>Fils A.</td>\n",
       "      <td>Tabilo A.</td>\n",
       "      <td>82</td>\n",
       "      <td>35</td>\n",
       "      <td>707</td>\n",
       "      <td>1208</td>\n",
       "      <td>4.00</td>\n",
       "      <td>1.25</td>\n",
       "      <td>6-2 7-5</td>\n",
       "    </tr>\n",
       "    <tr>\n",
       "      <th>61667</th>\n",
       "      <td>ASB Classic</td>\n",
       "      <td>2024-01-13</td>\n",
       "      <td>ATP250</td>\n",
       "      <td>Outdoor</td>\n",
       "      <td>Hard</td>\n",
       "      <td>The Final</td>\n",
       "      <td>3</td>\n",
       "      <td>Daniel T.</td>\n",
       "      <td>Tabilo A.</td>\n",
       "      <td>Tabilo A.</td>\n",
       "      <td>74</td>\n",
       "      <td>82</td>\n",
       "      <td>739</td>\n",
       "      <td>707</td>\n",
       "      <td>1.73</td>\n",
       "      <td>2.10</td>\n",
       "      <td>2-6 5-7</td>\n",
       "    </tr>\n",
       "  </tbody>\n",
       "</table>\n",
       "<p>61668 rows × 17 columns</p>\n",
       "</div>"
      ],
      "text/plain": [
       "                               Tournament        Date         Series    Court  \\\n",
       "0      Australian Hardcourt Championships  2000-01-03  International  Outdoor   \n",
       "1      Australian Hardcourt Championships  2000-01-03  International  Outdoor   \n",
       "2      Australian Hardcourt Championships  2000-01-03  International  Outdoor   \n",
       "3      Australian Hardcourt Championships  2000-01-03  International  Outdoor   \n",
       "4      Australian Hardcourt Championships  2000-01-03  International  Outdoor   \n",
       "...                                   ...         ...            ...      ...   \n",
       "61663                         ASB Classic  2024-01-10         ATP250  Outdoor   \n",
       "61664                         ASB Classic  2024-01-11         ATP250  Outdoor   \n",
       "61665                         ASB Classic  2024-01-12         ATP250  Outdoor   \n",
       "61666                         ASB Classic  2024-01-12         ATP250  Outdoor   \n",
       "61667                         ASB Classic  2024-01-13         ATP250  Outdoor   \n",
       "\n",
       "      Surface          Round  Best of        Player_1            Player_2  \\\n",
       "0        Hard      1st Round        3      Dosedel S.         Ljubicic I.   \n",
       "1        Hard      1st Round        3      Clement A.          Enqvist T.   \n",
       "2        Hard      1st Round        3       Escude N.       Baccanello P.   \n",
       "3        Hard      1st Round        3  Knippschild J.          Federer R.   \n",
       "4        Hard      1st Round        3     Fromberg R.       Woodbridge T.   \n",
       "...       ...            ...      ...             ...                 ...   \n",
       "61663    Hard  Quarterfinals        3       Muller A.           Daniel T.   \n",
       "61664    Hard  Quarterfinals        3      Shelton B.  Carballes Baena R.   \n",
       "61665    Hard     Semifinals        3      Shelton B.           Daniel T.   \n",
       "61666    Hard     Semifinals        3       Tabilo A.             Fils A.   \n",
       "61667    Hard      The Final        3       Daniel T.           Tabilo A.   \n",
       "\n",
       "            Winner  Rank_1  Rank_2  Pts_1  Pts_2  Odd_1  Odd_2           Score  \n",
       "0       Dosedel S.      63      77     -1     -1  -1.00  -1.00     6-4 6-2      \n",
       "1       Enqvist T.      56       5     -1     -1  -1.00  -1.00     3-6 3-6      \n",
       "2        Escude N.      40     655     -1     -1  -1.00  -1.00  6-7 7-5 6-3     \n",
       "3       Federer R.      87      65     -1     -1  -1.00  -1.00     1-6 4-6      \n",
       "4      Fromberg R.      81     198     -1     -1  -1.00  -1.00  7-6 5-7 6-4     \n",
       "...            ...     ...     ...    ...    ...    ...    ...             ...  \n",
       "61663    Daniel T.      79      74    711    739   1.91   1.91  4-6 7-6 3-6     \n",
       "61664   Shelton B.      16      67   2145    796   1.17   5.00     6-4 6-3      \n",
       "61665    Daniel T.      16      74   2145    739   1.22   4.33     5-7 6-7      \n",
       "61666    Tabilo A.      82      35    707   1208   4.00   1.25     6-2 7-5      \n",
       "61667    Tabilo A.      74      82    739    707   1.73   2.10     2-6 5-7      \n",
       "\n",
       "[61668 rows x 17 columns]"
      ]
     },
     "execution_count": 1,
     "metadata": {},
     "output_type": "execute_result"
    }
   ],
   "source": [
    "import pandas as pd\n",
    "df = pd.read_csv(\"atp_tennis.csv\")\n",
    "df"
   ]
  },
  {
   "cell_type": "markdown",
   "metadata": {},
   "source": [
    "Now let's check the datatype of each column:\n"
   ]
  },
  {
   "cell_type": "code",
   "execution_count": 2,
   "metadata": {},
   "outputs": [
    {
     "data": {
      "text/plain": [
       "Tournament     object\n",
       "Date           object\n",
       "Series         object\n",
       "Court          object\n",
       "Surface        object\n",
       "Round          object\n",
       "Best of         int64\n",
       "Player_1       object\n",
       "Player_2       object\n",
       "Winner         object\n",
       "Rank_1          int64\n",
       "Rank_2          int64\n",
       "Pts_1           int64\n",
       "Pts_2           int64\n",
       "Odd_1         float64\n",
       "Odd_2         float64\n",
       "Score          object\n",
       "dtype: object"
      ]
     },
     "execution_count": 2,
     "metadata": {},
     "output_type": "execute_result"
    }
   ],
   "source": [
    "df.dtypes"
   ]
  },
  {
   "cell_type": "markdown",
   "metadata": {},
   "source": [
    "Since the data types have been imported correctly, nothing more is needed to be done to finish the import of the csv file.\n",
    "\n",
    "## Problem Statement\n",
    "\n",
    "Now, let's delimit our research by establishing a purpose for the data analysis. One can be to create a linear regression model some kind of relation between two values that are most certainly highly correlated (in order to test the precision of estimations $\\hat{y}$ to target values $y$).\n",
    "\n",
    "I know! Let's look at how much correlation there is between a person's rank and wins. For example, we can go through all the matches and look at the person with the highest rank between both and see if they won.\n",
    "\n",
    "Now we must define our independent and dependent variables and filter our data based on them. There will be two analysis: the first to obtain the second's target.\n",
    "\n",
    "First, the independent variable should be the difference in rank between the loser and the winner and the dependent variable should be if they won the match.\n",
    "\n",
    "After obtaining multiple samples for that specific rank difference we can obtain an estimated winning percentage from the amount of times won compared to the total amount of matches played (with that specific rank difference). We will only take into account the mean if there have been at least 20 matches played with that rank difference and that both players are ranked in the top 200 (to make the statistical result more close to results from the top players).\n",
    "\n",
    "For the second and final analysis, the independent variable will be the rank difference between both players and the dependent variable will be the mean obtained before, which is the winning rate.\n",
    "\n",
    "In the end, we will obtain a correlation for how the variance in the winning rate of players can be explained by their rank differences.\n",
    "\n",
    "## Hypothesis\n",
    "\n",
    "My hypothesis is that **if a person's rank is higher than their opponent's, then they are more likely to win the match.**\n"
   ]
  },
  {
   "cell_type": "markdown",
   "metadata": {},
   "source": [
    "## Preparing Data\n",
    "\n",
    "First we must delimit our entire dataset to the above statement.\n",
    "\n",
    "Let's limit the dataset only with the columns we need, which are the ranks, the players, and the winner between both players.\n"
   ]
  },
  {
   "cell_type": "code",
   "execution_count": 3,
   "metadata": {},
   "outputs": [
    {
     "data": {
      "text/html": [
       "<div>\n",
       "<style scoped>\n",
       "    .dataframe tbody tr th:only-of-type {\n",
       "        vertical-align: middle;\n",
       "    }\n",
       "\n",
       "    .dataframe tbody tr th {\n",
       "        vertical-align: top;\n",
       "    }\n",
       "\n",
       "    .dataframe thead th {\n",
       "        text-align: right;\n",
       "    }\n",
       "</style>\n",
       "<table border=\"1\" class=\"dataframe\">\n",
       "  <thead>\n",
       "    <tr style=\"text-align: right;\">\n",
       "      <th></th>\n",
       "      <th>Player_1</th>\n",
       "      <th>Rank_1</th>\n",
       "      <th>Player_2</th>\n",
       "      <th>Rank_2</th>\n",
       "      <th>Winner</th>\n",
       "    </tr>\n",
       "  </thead>\n",
       "  <tbody>\n",
       "    <tr>\n",
       "      <th>0</th>\n",
       "      <td>Dosedel S.</td>\n",
       "      <td>63</td>\n",
       "      <td>Ljubicic I.</td>\n",
       "      <td>77</td>\n",
       "      <td>Dosedel S.</td>\n",
       "    </tr>\n",
       "    <tr>\n",
       "      <th>1</th>\n",
       "      <td>Clement A.</td>\n",
       "      <td>56</td>\n",
       "      <td>Enqvist T.</td>\n",
       "      <td>5</td>\n",
       "      <td>Enqvist T.</td>\n",
       "    </tr>\n",
       "    <tr>\n",
       "      <th>2</th>\n",
       "      <td>Escude N.</td>\n",
       "      <td>40</td>\n",
       "      <td>Baccanello P.</td>\n",
       "      <td>655</td>\n",
       "      <td>Escude N.</td>\n",
       "    </tr>\n",
       "    <tr>\n",
       "      <th>3</th>\n",
       "      <td>Knippschild J.</td>\n",
       "      <td>87</td>\n",
       "      <td>Federer R.</td>\n",
       "      <td>65</td>\n",
       "      <td>Federer R.</td>\n",
       "    </tr>\n",
       "    <tr>\n",
       "      <th>4</th>\n",
       "      <td>Fromberg R.</td>\n",
       "      <td>81</td>\n",
       "      <td>Woodbridge T.</td>\n",
       "      <td>198</td>\n",
       "      <td>Fromberg R.</td>\n",
       "    </tr>\n",
       "    <tr>\n",
       "      <th>...</th>\n",
       "      <td>...</td>\n",
       "      <td>...</td>\n",
       "      <td>...</td>\n",
       "      <td>...</td>\n",
       "      <td>...</td>\n",
       "    </tr>\n",
       "    <tr>\n",
       "      <th>61663</th>\n",
       "      <td>Muller A.</td>\n",
       "      <td>79</td>\n",
       "      <td>Daniel T.</td>\n",
       "      <td>74</td>\n",
       "      <td>Daniel T.</td>\n",
       "    </tr>\n",
       "    <tr>\n",
       "      <th>61664</th>\n",
       "      <td>Shelton B.</td>\n",
       "      <td>16</td>\n",
       "      <td>Carballes Baena R.</td>\n",
       "      <td>67</td>\n",
       "      <td>Shelton B.</td>\n",
       "    </tr>\n",
       "    <tr>\n",
       "      <th>61665</th>\n",
       "      <td>Shelton B.</td>\n",
       "      <td>16</td>\n",
       "      <td>Daniel T.</td>\n",
       "      <td>74</td>\n",
       "      <td>Daniel T.</td>\n",
       "    </tr>\n",
       "    <tr>\n",
       "      <th>61666</th>\n",
       "      <td>Tabilo A.</td>\n",
       "      <td>82</td>\n",
       "      <td>Fils A.</td>\n",
       "      <td>35</td>\n",
       "      <td>Tabilo A.</td>\n",
       "    </tr>\n",
       "    <tr>\n",
       "      <th>61667</th>\n",
       "      <td>Daniel T.</td>\n",
       "      <td>74</td>\n",
       "      <td>Tabilo A.</td>\n",
       "      <td>82</td>\n",
       "      <td>Tabilo A.</td>\n",
       "    </tr>\n",
       "  </tbody>\n",
       "</table>\n",
       "<p>61668 rows × 5 columns</p>\n",
       "</div>"
      ],
      "text/plain": [
       "             Player_1  Rank_1            Player_2  Rank_2       Winner\n",
       "0          Dosedel S.      63         Ljubicic I.      77   Dosedel S.\n",
       "1          Clement A.      56          Enqvist T.       5   Enqvist T.\n",
       "2           Escude N.      40       Baccanello P.     655    Escude N.\n",
       "3      Knippschild J.      87          Federer R.      65   Federer R.\n",
       "4         Fromberg R.      81       Woodbridge T.     198  Fromberg R.\n",
       "...               ...     ...                 ...     ...          ...\n",
       "61663       Muller A.      79           Daniel T.      74    Daniel T.\n",
       "61664      Shelton B.      16  Carballes Baena R.      67   Shelton B.\n",
       "61665      Shelton B.      16           Daniel T.      74    Daniel T.\n",
       "61666       Tabilo A.      82             Fils A.      35    Tabilo A.\n",
       "61667       Daniel T.      74           Tabilo A.      82    Tabilo A.\n",
       "\n",
       "[61668 rows x 5 columns]"
      ]
     },
     "execution_count": 3,
     "metadata": {},
     "output_type": "execute_result"
    }
   ],
   "source": [
    "df = df[[\"Player_1\", \"Rank_1\", \"Player_2\", \"Rank_2\", \"Winner\"]]\n",
    "df"
   ]
  },
  {
   "cell_type": "markdown",
   "metadata": {},
   "source": [
    "Let's limit the dataset only to players in the top 200\n"
   ]
  },
  {
   "cell_type": "code",
   "execution_count": 4,
   "metadata": {},
   "outputs": [
    {
     "data": {
      "text/html": [
       "<div>\n",
       "<style scoped>\n",
       "    .dataframe tbody tr th:only-of-type {\n",
       "        vertical-align: middle;\n",
       "    }\n",
       "\n",
       "    .dataframe tbody tr th {\n",
       "        vertical-align: top;\n",
       "    }\n",
       "\n",
       "    .dataframe thead th {\n",
       "        text-align: right;\n",
       "    }\n",
       "</style>\n",
       "<table border=\"1\" class=\"dataframe\">\n",
       "  <thead>\n",
       "    <tr style=\"text-align: right;\">\n",
       "      <th></th>\n",
       "      <th>Player_1</th>\n",
       "      <th>Rank_1</th>\n",
       "      <th>Player_2</th>\n",
       "      <th>Rank_2</th>\n",
       "      <th>Winner</th>\n",
       "    </tr>\n",
       "  </thead>\n",
       "  <tbody>\n",
       "    <tr>\n",
       "      <th>0</th>\n",
       "      <td>Dosedel S.</td>\n",
       "      <td>63</td>\n",
       "      <td>Ljubicic I.</td>\n",
       "      <td>77</td>\n",
       "      <td>Dosedel S.</td>\n",
       "    </tr>\n",
       "    <tr>\n",
       "      <th>1</th>\n",
       "      <td>Clement A.</td>\n",
       "      <td>56</td>\n",
       "      <td>Enqvist T.</td>\n",
       "      <td>5</td>\n",
       "      <td>Enqvist T.</td>\n",
       "    </tr>\n",
       "    <tr>\n",
       "      <th>3</th>\n",
       "      <td>Knippschild J.</td>\n",
       "      <td>87</td>\n",
       "      <td>Federer R.</td>\n",
       "      <td>65</td>\n",
       "      <td>Federer R.</td>\n",
       "    </tr>\n",
       "    <tr>\n",
       "      <th>4</th>\n",
       "      <td>Fromberg R.</td>\n",
       "      <td>81</td>\n",
       "      <td>Woodbridge T.</td>\n",
       "      <td>198</td>\n",
       "      <td>Fromberg R.</td>\n",
       "    </tr>\n",
       "    <tr>\n",
       "      <th>5</th>\n",
       "      <td>Arthurs W.</td>\n",
       "      <td>105</td>\n",
       "      <td>Gambill J.M.</td>\n",
       "      <td>58</td>\n",
       "      <td>Gambill J.M.</td>\n",
       "    </tr>\n",
       "    <tr>\n",
       "      <th>...</th>\n",
       "      <td>...</td>\n",
       "      <td>...</td>\n",
       "      <td>...</td>\n",
       "      <td>...</td>\n",
       "      <td>...</td>\n",
       "    </tr>\n",
       "    <tr>\n",
       "      <th>61663</th>\n",
       "      <td>Muller A.</td>\n",
       "      <td>79</td>\n",
       "      <td>Daniel T.</td>\n",
       "      <td>74</td>\n",
       "      <td>Daniel T.</td>\n",
       "    </tr>\n",
       "    <tr>\n",
       "      <th>61664</th>\n",
       "      <td>Shelton B.</td>\n",
       "      <td>16</td>\n",
       "      <td>Carballes Baena R.</td>\n",
       "      <td>67</td>\n",
       "      <td>Shelton B.</td>\n",
       "    </tr>\n",
       "    <tr>\n",
       "      <th>61665</th>\n",
       "      <td>Shelton B.</td>\n",
       "      <td>16</td>\n",
       "      <td>Daniel T.</td>\n",
       "      <td>74</td>\n",
       "      <td>Daniel T.</td>\n",
       "    </tr>\n",
       "    <tr>\n",
       "      <th>61666</th>\n",
       "      <td>Tabilo A.</td>\n",
       "      <td>82</td>\n",
       "      <td>Fils A.</td>\n",
       "      <td>35</td>\n",
       "      <td>Tabilo A.</td>\n",
       "    </tr>\n",
       "    <tr>\n",
       "      <th>61667</th>\n",
       "      <td>Daniel T.</td>\n",
       "      <td>74</td>\n",
       "      <td>Tabilo A.</td>\n",
       "      <td>82</td>\n",
       "      <td>Tabilo A.</td>\n",
       "    </tr>\n",
       "  </tbody>\n",
       "</table>\n",
       "<p>54991 rows × 5 columns</p>\n",
       "</div>"
      ],
      "text/plain": [
       "             Player_1  Rank_1            Player_2  Rank_2        Winner\n",
       "0          Dosedel S.      63         Ljubicic I.      77    Dosedel S.\n",
       "1          Clement A.      56          Enqvist T.       5    Enqvist T.\n",
       "3      Knippschild J.      87          Federer R.      65    Federer R.\n",
       "4         Fromberg R.      81       Woodbridge T.     198   Fromberg R.\n",
       "5          Arthurs W.     105        Gambill J.M.      58  Gambill J.M.\n",
       "...               ...     ...                 ...     ...           ...\n",
       "61663       Muller A.      79           Daniel T.      74     Daniel T.\n",
       "61664      Shelton B.      16  Carballes Baena R.      67    Shelton B.\n",
       "61665      Shelton B.      16           Daniel T.      74     Daniel T.\n",
       "61666       Tabilo A.      82             Fils A.      35     Tabilo A.\n",
       "61667       Daniel T.      74           Tabilo A.      82     Tabilo A.\n",
       "\n",
       "[54991 rows x 5 columns]"
      ]
     },
     "execution_count": 4,
     "metadata": {},
     "output_type": "execute_result"
    }
   ],
   "source": [
    "# Input a condition inside the bracket operator to filter by the condition\n",
    "# Use string accessor in Date DataSeries to access string method .startswith()\n",
    "top_range = 200\n",
    "df = df[(df['Rank_1'] < top_range) & (df['Rank_2'] < top_range)]\n",
    "df"
   ]
  },
  {
   "cell_type": "markdown",
   "metadata": {},
   "source": [
    "Now let's adapt the dataset into a dictionary. Each key should be the relative rank $(\\text{RR})$ between the winner and the loser and the value will be the total appearance of that rank difference.\n",
    "\n",
    "If the player ranked higher won, then the key will be positive, otherwise, if the lesser ranked player is the winner, then the key will be negative.\n",
    "\n",
    "$\\text{Winner's RR} = \\text{Loser's Rank} - \\text{Winner's Rank}$\n"
   ]
  },
  {
   "cell_type": "code",
   "execution_count": 5,
   "metadata": {},
   "outputs": [],
   "source": [
    "rr_wins = {}\n",
    "\n",
    "for index, row in df.iterrows():\n",
    "    if row['Winner'] == row['Player_1']:\n",
    "        diff = row['Rank_2'] - row['Rank_1']\n",
    "    else:\n",
    "        diff = row['Rank_1'] - row['Rank_2']\n",
    "\n",
    "    rr_wins[diff] = rr_wins.get(diff, 0) + 1"
   ]
  },
  {
   "cell_type": "markdown",
   "metadata": {},
   "source": [
    "Graph the rank difference of the winner against its appearances. This graph should follow a normal distribution (since it is less likely that the top 1-10 players will go against the top 90-100)\n"
   ]
  },
  {
   "cell_type": "code",
   "execution_count": 6,
   "metadata": {},
   "outputs": [
    {
     "data": {
      "image/png": "[encoded data removed]",
      "text/plain": [
       "<Figure size 640x480 with 1 Axes>"
      ]
     },
     "metadata": {},
     "output_type": "display_data"
    }
   ],
   "source": [
    "import matplotlib.pyplot as plt\n",
    "\n",
    "plt.bar(rr_wins.keys(), rr_wins.values())\n",
    "plt.xlabel(\"Relative Rank\")\n",
    "plt.ylabel(\"Matches Won\")\n",
    "plt.show()"
   ]
  },
  {
   "cell_type": "markdown",
   "metadata": {},
   "source": [
    "## Model Data\n",
    "\n",
    "Once that we have our data prepared for our main model we can start implementing it.\n",
    "\n",
    "To obtain the win probability $(\\text{WP})$ of a relative rank in a match with a certain rank difference $(\\text{RD})$ we can simply do:\n",
    "\n",
    "$\\text{RR's WP} = \\frac{\\text{RR Matches Won}}{\\text{RD's Total Matches}}\\times 100$\n",
    "\n",
    "To obtain the total matches $(\\text{TM})$ for a certain rank difference we can sum the total amount of matches played from all lost and won matches. This means that we sum the matches won by the lower ranked person $(\\text{LRP})$ with the matches won by the higher ranked person $(\\text{HRP})$ to obtain the total matches with that rank difference.\n",
    "\n",
    "$\\text{RD's TM} = \\text{HRP Matches Won} + \\text{LRP Matches Won}$\n",
    "\n",
    "An important note on this last calculation according to our stablished limits:\n",
    "\n",
    "- The RD's total matches must be higher than 20\n",
    "- There must be HRP won matches as well as LRP won matches to create the total matches for that RD.\n"
   ]
  },
  {
   "cell_type": "markdown",
   "metadata": {},
   "source": [
    "Obtain each rank difference's total matches considering the limitations and display them in a scatter plot\n"
   ]
  },
  {
   "cell_type": "code",
   "execution_count": 7,
   "metadata": {},
   "outputs": [
    {
     "data": {
      "image/png": "[encoded data removed]",
      "text/plain": [
       "<Figure size 640x480 with 1 Axes>"
      ]
     },
     "metadata": {},
     "output_type": "display_data"
    }
   ],
   "source": [
    "rd_tm = {}\n",
    "for i in range(top_range):\n",
    "    if -i in rr_wins and i in rr_wins:\n",
    "        total_matches = rr_wins[i] + rr_wins[-i]\n",
    "        if total_matches > 20:\n",
    "            rd_tm[i] = total_matches\n",
    "\n",
    "plt.scatter(rd_tm.keys(), rd_tm.values(), s=10, c=\"#ffa600\")\n",
    "plt.xlabel(\"Rank Difference\")\n",
    "plt.ylabel(\"Total Matches Played\")\n",
    "plt.show()"
   ]
  },
  {
   "cell_type": "markdown",
   "metadata": {},
   "source": [
    "Obtain each relative rank's win probability and display it in a histogram.\n",
    "\n",
    "We only take into account relative rank's from the correctly limited rank differences.\n"
   ]
  },
  {
   "cell_type": "code",
   "execution_count": 8,
   "metadata": {},
   "outputs": [
    {
     "data": {
      "image/png": "[encoded data removed]",
      "text/plain": [
       "<Figure size 640x480 with 1 Axes>"
      ]
     },
     "metadata": {},
     "output_type": "display_data"
    }
   ],
   "source": [
    "rr_wp = {}\n",
    "for k in rr_wins.keys():\n",
    "    if abs(k) in rd_tm:\n",
    "        rr_wp[k] = rr_wins[k] / rd_tm[abs(k)] * 100\n",
    "\n",
    "def rr_wp_plot(x, y):\n",
    "    plt.scatter(rr_wp.keys(), rr_wp.values(), s=10, c=\"#ffa600\")\n",
    "    plt.xlabel(\"Relative Rank\")\n",
    "    plt.ylabel(\"Win Probability\")\n",
    "\n",
    "rr_wp_plot(rr_wp.keys(), rr_wp.values())\n",
    "plt.show()"
   ]
  },
  {
   "cell_type": "markdown",
   "metadata": {},
   "source": [
    "Now that we have our training set, let's implement linear regression and gradient descent.\n"
   ]
  },
  {
   "cell_type": "markdown",
   "metadata": {},
   "source": [
    "## Model Linear Regression\n",
    "\n",
    "In order to model our linear regression first we convert the dataset into numpy arrays so that we have better runtimes and memory usage. Now we must consider the basic functions and methods to perform the regression, which includes:\n",
    "\n",
    "- Linear function:\n",
    "\n",
    "$$\n",
    "f_{w,b}(x) = wx + b\n",
    "$$\n",
    "\n",
    "- Total cost function:\n",
    "\n",
    "$$\n",
    "J(w,b) = \\frac{1}{2m}\\sum_{i=0}^{m}(f_{w,b}(x^{(i)}) - y^{(i)})^2\n",
    "$$\n",
    "\n",
    "- Gradient function:\n",
    "\n",
    "$$\n",
    "\\frac{dJ(w,b)}{dw} = \\frac{1}{m}\\sum_{i=0}^{m}(f_{w,b}(x^{(i)}) - y^{(i)})x^{(i)}\n",
    "$$\n",
    "\n",
    "$$\n",
    "\\frac{dJ(w,b)}{db} = \\frac{1}{m}\\sum_{i=0}^{m}(f_{w,b}(x^{(i)}) - y^{(i)})\n",
    "$$\n",
    "\n",
    "- Gradient descent function:\n",
    "\n",
    "$$\n",
    "w^{(j+1)} = w^{(j)} - \\alpha\\frac{dJ(w^{(j)},b^{(j)})}{dw}\n",
    "$$\n",
    "\n",
    "$$\n",
    "b^{(j+1)} = b^{(j)} - \\alpha\\frac{dJ(w^{(j)},b^{(j)})}{db}\n",
    "$$\n"
   ]
  },
  {
   "cell_type": "markdown",
   "metadata": {},
   "source": [
    "Define the arrays and linear function\n"
   ]
  },
  {
   "cell_type": "code",
   "execution_count": 9,
   "metadata": {},
   "outputs": [],
   "source": [
    "import numpy as np\n",
    "\n",
    "x = np.sort(np.array(list(rr_wp.keys())))\n",
    "y = np.sort(np.array(list(rr_wp.values())))\n",
    "\n",
    "def linear_f(x, w, b):\n",
    "    return w*x + b"
   ]
  },
  {
   "cell_type": "markdown",
   "metadata": {},
   "source": [
    "Define the total cost function\n"
   ]
  },
  {
   "cell_type": "code",
   "execution_count": 10,
   "metadata": {},
   "outputs": [],
   "source": [
    "def compute_cost(x, y, w, b):\n",
    "    if len(x) != len(y):\n",
    "        raise Exception(\"x and y not of the same size\")\n",
    "    \n",
    "    total_cost = 0\n",
    "    m = len(x)\n",
    "\n",
    "    for i in range(m):\n",
    "        cost = (linear_f(x[i], w, b) - y[i]) ** 2\n",
    "        total_cost += cost\n",
    "    total_cost *= (1/(2*m))\n",
    "\n",
    "    return total_cost"
   ]
  },
  {
   "cell_type": "markdown",
   "metadata": {},
   "source": [
    "Define the gradient function\n"
   ]
  },
  {
   "cell_type": "code",
   "execution_count": 11,
   "metadata": {},
   "outputs": [],
   "source": [
    "def compute_gradient(x, y, w, b):\n",
    "    dJ_dw = 0\n",
    "    dJ_db = 0\n",
    "    m = len(x)\n",
    "\n",
    "    for i in range(m):\n",
    "        f_wb = linear_f(x[i], w, b)\n",
    "        dJ_dw = dJ_dw + (f_wb - y[i]) * x[i]\n",
    "        dJ_db = dJ_db + (f_wb - y[i])\n",
    "\n",
    "    \n",
    "    dJ_dw = dJ_dw / m\n",
    "    dJ_db = dJ_db / m\n",
    "\n",
    "    return dJ_dw, dJ_db"
   ]
  },
  {
   "cell_type": "markdown",
   "metadata": {},
   "source": [
    "Define the gradient descent function\n"
   ]
  },
  {
   "cell_type": "code",
   "execution_count": 12,
   "metadata": {},
   "outputs": [],
   "source": [
    "def gradient_descent(x, y, w_ini, b_ini, alpha, epsilon, max_iters):\n",
    "    if len(x) != len(y):\n",
    "        raise Exception(\"x and y not of the same size\")\n",
    "    \n",
    "    w = w_ini\n",
    "    b = b_ini\n",
    "    m = len(x)\n",
    "\n",
    "    for i in range(max_iters):\n",
    "        dJ_dw, dJ_db = compute_gradient(x, y, w, b)\n",
    "        \n",
    "        if (np.abs(dJ_dw) < epsilon and np.abs(dJ_db) < epsilon):\n",
    "            print(f\"Reached w and b in {i} iterations.\")\n",
    "            return w, b\n",
    "\n",
    "        w = w - alpha * dJ_dw\n",
    "        b = b - alpha * dJ_db\n",
    "\n",
    "    print(f\"Reached max iterations\")\n",
    "    return w, b"
   ]
  },
  {
   "cell_type": "markdown",
   "metadata": {},
   "source": [
    "## Compute Linear Regression\n",
    "\n",
    "Once that each function has been defined, we have to compute the linear regression model, performing gradient descent to minimize the total cost using starting values for w and b of 0 each by convention.\n"
   ]
  },
  {
   "cell_type": "code",
   "execution_count": 13,
   "metadata": {},
   "outputs": [
    {
     "name": "stdout",
     "output_type": "stream",
     "text": [
      "Reached w and b in 62143 iterations.\n",
      "w: 0.22328125457306847, b: 49.90000026372888\n"
     ]
    }
   ],
   "source": [
    "w_ini = 0\n",
    "b_ini = 0\n",
    "alpha = 1e-4\n",
    "epsilon = 1e-1\n",
    "max_iters = 1000000\n",
    "\n",
    "w_all, b_all = gradient_descent(x, y, w_ini, b_ini, alpha, epsilon, max_iters)\n",
    "print(f\"w: {w_all}, b: {b_all}\")"
   ]
  },
  {
   "cell_type": "markdown",
   "metadata": {},
   "source": [
    "Now, we can output the linear regression on top of the graph to visualize the correlation between both variables and also compute the total (minimized) cost\n"
   ]
  },
  {
   "cell_type": "code",
   "execution_count": 14,
   "metadata": {},
   "outputs": [
    {
     "data": {
      "image/png": "[encoded data removed]",
      "text/plain": [
       "<Figure size 640x480 with 1 Axes>"
      ]
     },
     "metadata": {},
     "output_type": "display_data"
    }
   ],
   "source": [
    "def lr_plot(start, stop, w, b, color):\n",
    "    lr_x = np.array([start, stop])\n",
    "    y_hat = np.array([linear_f(x, w, b) for x in lr_x])\n",
    "    plt.plot(lr_x, y_hat, c=color)\n",
    "\n",
    "rr_wp_plot(x, y)\n",
    "lr_plot(-top_range, top_range, w_all, b_all, '#ff6361')\n",
    "total_cost = compute_cost(x, y, w_all, b_all)\n",
    "plt.text(-top_range, 90, f\"Cost: {total_cost:.{3}f}\", ha='left', va='center', color='#ff6361')\n",
    "plt.show()"
   ]
  },
  {
   "cell_type": "markdown",
   "metadata": {},
   "source": [
    "We can also perform the regression only before and after a relative rank of 0 to obtain two more precise linear regressions instead of one that tries to take into account all of the training set.\n",
    "\n",
    "This means that for the first half $(\\text{fh})$ we will use $x$ values up to 0, and for the second half $(\\text{sh})$ one starting at values greater than 0.\n"
   ]
  },
  {
   "cell_type": "code",
   "execution_count": 15,
   "metadata": {},
   "outputs": [
    {
     "name": "stdout",
     "output_type": "stream",
     "text": [
      "Reached w and b in 188409 iterations.\n",
      "First half\n",
      "w: 0.16206115202388688, b: 43.06845485002016\n"
     ]
    }
   ],
   "source": [
    "i_fh = np.where(x < 0)\n",
    "x_fh = x[i_fh]\n",
    "y_fh = y[i_fh]\n",
    "w_fh, b_fh = gradient_descent(x_fh, y_fh, w_ini, b_ini, alpha, epsilon, max_iters)\n",
    "print(f\"First half\\nw: {w_fh}, b: {b_fh}\")"
   ]
  },
  {
   "cell_type": "code",
   "execution_count": 16,
   "metadata": {},
   "outputs": [
    {
     "name": "stdout",
     "output_type": "stream",
     "text": [
      "Reached w and b in 198975 iterations.\n",
      "Second half\n",
      "w: 0.16916893360682284, b: 56.12679785821927\n"
     ]
    }
   ],
   "source": [
    "i_sh = np.where(x > 0)\n",
    "x_sh = x[i_sh]\n",
    "y_sh = y[i_sh]\n",
    "w_sh, b_sh = gradient_descent(x_sh, y_sh, w_ini, b_ini, alpha, epsilon, max_iters)\n",
    "print(f\"Second half\\nw: {w_sh}, b: {b_sh}\")"
   ]
  },
  {
   "cell_type": "markdown",
   "metadata": {},
   "source": [
    "Display both linear regressions and their costs\n"
   ]
  },
  {
   "cell_type": "code",
   "execution_count": 17,
   "metadata": {},
   "outputs": [
    {
     "data": {
      "image/png": "[encoded data removed]",
      "text/plain": [
       "<Figure size 640x480 with 1 Axes>"
      ]
     },
     "metadata": {},
     "output_type": "display_data"
    }
   ],
   "source": [
    "rr_wp_plot(x_fh, y_fh)\n",
    "\n",
    "lr_plot(x_fh[0], x_fh[len(x_fh)-1], w_fh, b_fh, '#bc5090')\n",
    "total_cost = compute_cost(x_fh, y_fh, w_fh, b_fh)\n",
    "plt.text(x_fh[len(x_fh)-1], 20, f\"Cost: {total_cost:.{3}f}\", ha='right', va='center', color='#bc5090')\n",
    "\n",
    "lr_plot(x_sh[0], x_sh[len(x_sh)-1], w_sh, b_sh, '#58508d')\n",
    "total_cost = compute_cost(x_sh, y_sh, w_sh, b_sh)\n",
    "plt.text(x_sh[0], 80, f\"Cost: {total_cost:.{3}f}\", ha='left', va='center', color='#58508d')\n",
    "\n",
    "plt.show()"
   ]
  }
 ],
 "metadata": {
  "kernelspec": {
   "display_name": "Python 3",
   "language": "python",
   "name": "python3"
  },
  "language_info": {
   "codemirror_mode": {
    "name": "ipython",
    "version": 3
   },
   "file_extension": ".py",
   "mimetype": "text/x-python",
   "name": "python",
   "nbconvert_exporter": "python",
   "pygments_lexer": "ipython3",
   "version": "3.12.1"
  }
 },
 "nbformat": 4,
 "nbformat_minor": 2
}
